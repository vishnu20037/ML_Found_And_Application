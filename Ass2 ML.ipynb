{
 "cells": [
  {
   "cell_type": "markdown",
   "metadata": {},
   "source": [
    "# Assignment 2\n",
    "## Vishnudutt Soni\n",
    "## 17GG20037"
   ]
  },
  {
   "cell_type": "code",
   "execution_count": 101,
   "metadata": {},
   "outputs": [],
   "source": [
    "#Loading Libraries\n",
    "import numpy as np\n",
    "import pandas as pd"
   ]
  },
  {
   "cell_type": "code",
   "execution_count": 1,
   "metadata": {},
   "outputs": [
    {
     "data": {
      "text/plain": [
       "(array([2.81576254, 0.50767656]), array([2.79836233]))"
      ]
     },
     "execution_count": 1,
     "metadata": {},
     "output_type": "execute_result"
    }
   ],
   "source": [
    "import numpy as np\n",
    "import pandas as pd\n",
    "d={ 'X1' : [2,2,1,1,0,0,0,-1,-1,-1] , 'X2': [3,0,0,-1,3,0,-1,4,2,-1] , 'Y' : [12,9,5,4,4,1,0,1,1,4] }\n",
    "t={ 'X1' : [-1,0] , 'X2': [0,2]}\n",
    "test=pd.DataFrame(t)\n",
    "df=pd.DataFrame(d)\n",
    "x=df.drop('Y',axis=1)\n",
    "y=df['Y']\n",
    "x_t=x.to_numpy()\n",
    "y_t=y.to_numpy()\n",
    "x_train_mean=np.mean(x_t,axis=0,keepdims=True)\n",
    "y_train_mean=np.mean(y_t)\n",
    "x_prime=x_t-x_train_mean\n",
    "y_prime=y_t-y_train_mean\n",
    "#y_prime = np.expand_dims(y_prime, axis = 1)\n",
    "w = np.dot(np.dot((np.linalg.inv(np.dot(np.transpose(x_prime),x_prime))),np.transpose(x_prime)),y_prime)\n",
    "b = y_train_mean-(np.dot(x_train_mean,w))\n",
    "w,b"
   ]
  },
  {
   "cell_type": "code",
   "execution_count": 121,
   "metadata": {},
   "outputs": [
    {
     "data": {
      "text/plain": [
       "(array([0.50767656, 2.81576254]), array([2.79836233]))"
      ]
     },
     "execution_count": 121,
     "metadata": {},
     "output_type": "execute_result"
    }
   ],
   "source": [
    "import numpy as np\n",
    "import pandas as pd\n",
    "d={ 'X1' : [3,0,0,-1,3,0,-1,4,2,-1] , 'X2': [2,2,1,1,0,0,0,-1,-1,-1] , 'Y' : [12,9,5,4,4,1,0,1,1,4] }\n",
    "t={ 'X1' : [3,1] , 'X2': [3,-1]}\n",
    "test=pd.DataFrame(t)\n",
    "df=pd.DataFrame(d)\n",
    "x=df.drop('Y',axis=1)\n",
    "y=df['Y']\n",
    "x_t=x.to_numpy()\n",
    "y_t=y.to_numpy()\n",
    "x_train_mean=np.mean(x_t,axis=0,keepdims=True)\n",
    "y_train_mean=np.mean(y_t)\n",
    "x_prime=x_t-x_train_mean\n",
    "y_prime=y_t-y_train_mean\n",
    "#y_prime = np.expand_dims(y_prime, axis = 1)\n",
    "w = np.dot(np.dot((np.linalg.inv(np.dot(np.transpose(x_prime),x_prime))),np.transpose(x_prime)),y_prime)\n",
    "b = y_train_mean-(np.dot(x_train_mean,w))\n",
    "w,b"
   ]
  },
  {
   "cell_type": "code",
   "execution_count": 82,
   "metadata": {},
   "outputs": [],
   "source": [
    "d={ 'X1' : [-1,-1,-1,0,0,0,1,1,2,2] , 'X2': [-1,2,4,-1,0,3,-1,0,0,3] , 'Y' : [4,1,1,0,1,4,4,5,9,12] }\n",
    "t={ 'X1' : [-1,0] , 'X2': [0,2]}"
   ]
  },
  {
   "cell_type": "code",
   "execution_count": 86,
   "metadata": {},
   "outputs": [
    {
     "data": {
      "text/html": [
       "<div>\n",
       "<style scoped>\n",
       "    .dataframe tbody tr th:only-of-type {\n",
       "        vertical-align: middle;\n",
       "    }\n",
       "\n",
       "    .dataframe tbody tr th {\n",
       "        vertical-align: top;\n",
       "    }\n",
       "\n",
       "    .dataframe thead th {\n",
       "        text-align: right;\n",
       "    }\n",
       "</style>\n",
       "<table border=\"1\" class=\"dataframe\">\n",
       "  <thead>\n",
       "    <tr style=\"text-align: right;\">\n",
       "      <th></th>\n",
       "      <th>X1</th>\n",
       "      <th>X2</th>\n",
       "    </tr>\n",
       "  </thead>\n",
       "  <tbody>\n",
       "    <tr>\n",
       "      <th>0</th>\n",
       "      <td>-1</td>\n",
       "      <td>0</td>\n",
       "    </tr>\n",
       "    <tr>\n",
       "      <th>1</th>\n",
       "      <td>0</td>\n",
       "      <td>2</td>\n",
       "    </tr>\n",
       "  </tbody>\n",
       "</table>\n",
       "</div>"
      ],
      "text/plain": [
       "   X1  X2\n",
       "0  -1   0\n",
       "1   0   2"
      ]
     },
     "execution_count": 86,
     "metadata": {},
     "output_type": "execute_result"
    }
   ],
   "source": [
    "test=pd.DataFrame(t)\n",
    "x_test=test\n",
    "x_test"
   ]
  },
  {
   "cell_type": "code",
   "execution_count": 63,
   "metadata": {},
   "outputs": [
    {
     "data": {
      "text/html": [
       "<div>\n",
       "<style scoped>\n",
       "    .dataframe tbody tr th:only-of-type {\n",
       "        vertical-align: middle;\n",
       "    }\n",
       "\n",
       "    .dataframe tbody tr th {\n",
       "        vertical-align: top;\n",
       "    }\n",
       "\n",
       "    .dataframe thead th {\n",
       "        text-align: right;\n",
       "    }\n",
       "</style>\n",
       "<table border=\"1\" class=\"dataframe\">\n",
       "  <thead>\n",
       "    <tr style=\"text-align: right;\">\n",
       "      <th></th>\n",
       "      <th>X1</th>\n",
       "      <th>X2</th>\n",
       "      <th>Y</th>\n",
       "    </tr>\n",
       "  </thead>\n",
       "  <tbody>\n",
       "    <tr>\n",
       "      <th>0</th>\n",
       "      <td>-1</td>\n",
       "      <td>-1</td>\n",
       "      <td>4</td>\n",
       "    </tr>\n",
       "    <tr>\n",
       "      <th>1</th>\n",
       "      <td>-1</td>\n",
       "      <td>2</td>\n",
       "      <td>1</td>\n",
       "    </tr>\n",
       "    <tr>\n",
       "      <th>2</th>\n",
       "      <td>-1</td>\n",
       "      <td>4</td>\n",
       "      <td>1</td>\n",
       "    </tr>\n",
       "    <tr>\n",
       "      <th>3</th>\n",
       "      <td>0</td>\n",
       "      <td>-1</td>\n",
       "      <td>0</td>\n",
       "    </tr>\n",
       "    <tr>\n",
       "      <th>4</th>\n",
       "      <td>0</td>\n",
       "      <td>0</td>\n",
       "      <td>1</td>\n",
       "    </tr>\n",
       "    <tr>\n",
       "      <th>5</th>\n",
       "      <td>0</td>\n",
       "      <td>3</td>\n",
       "      <td>4</td>\n",
       "    </tr>\n",
       "    <tr>\n",
       "      <th>6</th>\n",
       "      <td>1</td>\n",
       "      <td>-1</td>\n",
       "      <td>4</td>\n",
       "    </tr>\n",
       "    <tr>\n",
       "      <th>7</th>\n",
       "      <td>1</td>\n",
       "      <td>0</td>\n",
       "      <td>5</td>\n",
       "    </tr>\n",
       "    <tr>\n",
       "      <th>8</th>\n",
       "      <td>2</td>\n",
       "      <td>0</td>\n",
       "      <td>9</td>\n",
       "    </tr>\n",
       "    <tr>\n",
       "      <th>9</th>\n",
       "      <td>2</td>\n",
       "      <td>3</td>\n",
       "      <td>12</td>\n",
       "    </tr>\n",
       "  </tbody>\n",
       "</table>\n",
       "</div>"
      ],
      "text/plain": [
       "   X1  X2   Y\n",
       "0  -1  -1   4\n",
       "1  -1   2   1\n",
       "2  -1   4   1\n",
       "3   0  -1   0\n",
       "4   0   0   1\n",
       "5   0   3   4\n",
       "6   1  -1   4\n",
       "7   1   0   5\n",
       "8   2   0   9\n",
       "9   2   3  12"
      ]
     },
     "execution_count": 63,
     "metadata": {},
     "output_type": "execute_result"
    }
   ],
   "source": [
    "df=pd.DataFrame(d)\n",
    "#df['X1']=df[0]\n",
    "#df['X1']\n",
    "#df.drop(0)\n",
    "#df['X1']=df[1]\n",
    "df"
   ]
  },
  {
   "cell_type": "code",
   "execution_count": 66,
   "metadata": {},
   "outputs": [
    {
     "data": {
      "text/plain": [
       "0     4\n",
       "1     1\n",
       "2     1\n",
       "3     0\n",
       "4     1\n",
       "5     4\n",
       "6     4\n",
       "7     5\n",
       "8     9\n",
       "9    12\n",
       "Name: Y, dtype: int64"
      ]
     },
     "execution_count": 66,
     "metadata": {},
     "output_type": "execute_result"
    }
   ],
   "source": [
    "x=df.drop('Y',axis=1)\n",
    "y=df['Y']\n",
    "x\n",
    "y"
   ]
  },
  {
   "cell_type": "code",
   "execution_count": 78,
   "metadata": {},
   "outputs": [
    {
     "data": {
      "text/plain": [
       "array([[-0.1],\n",
       "       [-3.1],\n",
       "       [-3.1],\n",
       "       [-4.1],\n",
       "       [-3.1],\n",
       "       [-0.1],\n",
       "       [-0.1],\n",
       "       [ 0.9],\n",
       "       [ 4.9],\n",
       "       [ 7.9]])"
      ]
     },
     "execution_count": 78,
     "metadata": {},
     "output_type": "execute_result"
    }
   ],
   "source": [
    "x_t=x.to_numpy()\n",
    "y_t=y.to_numpy()\n",
    "x_t\n",
    "y_t\n",
    "x_train_mean=np.mean(x_t,axis=0,keepdims=True)\n",
    "y_train_mean=np.mean(y_t)\n",
    "x_prime=x_t-x_train_mean\n",
    "y_prime=y_t-y_train_mean\n",
    "y_prime = np.expand_dims(y_prime, axis = 1)\n",
    "x_train_mean\n",
    "y_train_mean\n",
    "x_prime=x_t-x_train_mean\n",
    "x_prime\n",
    "y_prime"
   ]
  },
  {
   "cell_type": "code",
   "execution_count": 87,
   "metadata": {},
   "outputs": [
    {
     "data": {
      "text/plain": [
       "(array([[2.81576254],\n",
       "        [0.50767656]]), array([[2.79836233]]))"
      ]
     },
     "execution_count": 87,
     "metadata": {},
     "output_type": "execute_result"
    }
   ],
   "source": [
    "w = np.dot(np.dot((np.linalg.inv(np.dot(np.transpose(x_prime),x_prime))),np.transpose(x_prime)),y_prime)\n",
    "b = y_train_mean-(np.dot(x_train_mean,w))\n",
    "w,b"
   ]
  },
  {
   "cell_type": "code",
   "execution_count": 88,
   "metadata": {},
   "outputs": [
    {
     "data": {
      "text/plain": [
       "(2, 1)"
      ]
     },
     "execution_count": 88,
     "metadata": {},
     "output_type": "execute_result"
    }
   ],
   "source": [
    "w.shape"
   ]
  },
  {
   "cell_type": "code",
   "execution_count": 89,
   "metadata": {},
   "outputs": [
    {
     "data": {
      "text/plain": [
       "(2, 2)"
      ]
     },
     "execution_count": 89,
     "metadata": {},
     "output_type": "execute_result"
    }
   ],
   "source": [
    "x_test.shape"
   ]
  },
  {
   "cell_type": "code",
   "execution_count": 90,
   "metadata": {},
   "outputs": [
    {
     "data": {
      "text/plain": [
       "(1, 1)"
      ]
     },
     "execution_count": 90,
     "metadata": {},
     "output_type": "execute_result"
    }
   ],
   "source": [
    "b.shape"
   ]
  },
  {
   "cell_type": "code",
   "execution_count": 93,
   "metadata": {},
   "outputs": [
    {
     "data": {
      "text/plain": [
       "array([[-0.0174002 ,  3.81371546]])"
      ]
     },
     "execution_count": 93,
     "metadata": {},
     "output_type": "execute_result"
    }
   ],
   "source": [
    "y1=np.dot(w.T,x_test)+b\n",
    "y1"
   ]
  },
  {
   "cell_type": "code",
   "execution_count": 2,
   "metadata": {},
   "outputs": [
    {
     "data": {
      "text/plain": [
       "(array([1.51721939, 0.30761054]), array([3.36798469]))"
      ]
     },
     "execution_count": 2,
     "metadata": {},
     "output_type": "execute_result"
    }
   ],
   "source": [
    "m = x_t.shape[1]\n",
    "m\n",
    "I = np.identity(m)\n",
    "I\n",
    "ld=10\n",
    "w1 = np.dot(np.dot((np.linalg.inv(np.dot(np.transpose(x_prime),x_prime)+ld*I)),np.transpose(x_prime)),y_prime)\n",
    "w1\n",
    "b1 =  y_train_mean-(np.dot(x_train_mean,w1))\n",
    "b1\n",
    "w1,b1"
   ]
  },
  {
   "cell_type": "code",
   "execution_count": 117,
   "metadata": {},
   "outputs": [
    {
     "ename": "TypeError",
     "evalue": "predict() takes 2 positional arguments but 3 were given",
     "output_type": "error",
     "traceback": [
      "\u001b[1;31m---------------------------------------------------------------------------\u001b[0m",
      "\u001b[1;31mTypeError\u001b[0m                                 Traceback (most recent call last)",
      "\u001b[1;32m<ipython-input-117-710d0e54f616>\u001b[0m in \u001b[0;36m<module>\u001b[1;34m\u001b[0m\n\u001b[0;32m      2\u001b[0m \u001b[0mneigh\u001b[0m \u001b[1;33m=\u001b[0m \u001b[0mKNeighborsRegressor\u001b[0m\u001b[1;33m(\u001b[0m\u001b[0mn_neighbors\u001b[0m\u001b[1;33m=\u001b[0m\u001b[1;36m3\u001b[0m\u001b[1;33m,\u001b[0m \u001b[0mweights\u001b[0m\u001b[1;33m=\u001b[0m\u001b[1;34m'distance'\u001b[0m\u001b[1;33m,\u001b[0m\u001b[0mp\u001b[0m\u001b[1;33m=\u001b[0m\u001b[1;36m1\u001b[0m\u001b[1;33m)\u001b[0m\u001b[1;33m\u001b[0m\u001b[1;33m\u001b[0m\u001b[0m\n\u001b[0;32m      3\u001b[0m \u001b[0mneigh\u001b[0m\u001b[1;33m.\u001b[0m\u001b[0mfit\u001b[0m\u001b[1;33m(\u001b[0m\u001b[0mx_t\u001b[0m\u001b[1;33m,\u001b[0m\u001b[0my_t\u001b[0m\u001b[1;33m)\u001b[0m\u001b[1;33m\u001b[0m\u001b[1;33m\u001b[0m\u001b[0m\n\u001b[1;32m----> 4\u001b[1;33m \u001b[0my\u001b[0m\u001b[1;33m=\u001b[0m\u001b[0mneigh\u001b[0m\u001b[1;33m.\u001b[0m\u001b[0mpredict\u001b[0m\u001b[1;33m(\u001b[0m\u001b[1;33m-\u001b[0m\u001b[1;36m1\u001b[0m\u001b[1;33m,\u001b[0m\u001b[1;36m0\u001b[0m\u001b[1;33m)\u001b[0m\u001b[1;33m\u001b[0m\u001b[1;33m\u001b[0m\u001b[0m\n\u001b[0m\u001b[0;32m      5\u001b[0m \u001b[0my\u001b[0m\u001b[1;33m\u001b[0m\u001b[1;33m\u001b[0m\u001b[0m\n",
      "\u001b[1;31mTypeError\u001b[0m: predict() takes 2 positional arguments but 3 were given"
     ]
    }
   ],
   "source": [
    "from sklearn.neighbors import KNeighborsRegressor\n",
    "neigh = KNeighborsRegressor(n_neighbors=3, weights='distance',p=1)\n",
    "neigh.fit(x_t,y_t)\n",
    "y=neigh.predict(-1,0)\n",
    "y"
   ]
  },
  {
   "cell_type": "code",
   "execution_count": null,
   "metadata": {},
   "outputs": [],
   "source": [
    "m = x_train.shape[1]\n",
    "#m\n",
    "I = np.identity(m)\n",
    "I\n",
    "ld=[0.5,1,5,10,50,100] #given\n",
    "#Initializing Empty matrix for coffecients\n",
    "W=np.empty((3,6))\n",
    "#W\n",
    "B=np.empty((1,6))\n",
    "#B\n",
    "for i,a in enumerate(ld):\n",
    "    w1 = np.dot(np.dot((np.linalg.inv(np.dot(np.transpose(x_tild),x_tild)+a*I)),np.transpose(x_tild)),y_tild)\n",
    "    w1 = np.dot(np.dot(np.linalg.inv((np.dot(np.transpose(x_prime),x_prime)+a*I)),np.transpose(x_prime))),y_prime)\n",
    "    b1 =  y_train_mean-(np.dot(x_train_mean,w1))\n",
    "    W[:,i]=w1[:,0]\n",
    "    B[:,i]=b1"
   ]
  },
  {
   "cell_type": "code",
   "execution_count": 3,
   "metadata": {},
   "outputs": [],
   "source": [
    "df=pd.read_csv('Advertising Dataset.csv')"
   ]
  },
  {
   "cell_type": "code",
   "execution_count": 4,
   "metadata": {},
   "outputs": [],
   "source": [
    "#spliting the dataset into training and testing set randomly\n",
    "df1=df.sample(frac=1, random_state=1).reset_index(drop=True)\n",
    "#df2=df.sample(random_state=1).reset_index(drop=True)\n",
    "#df1=df.sample(frac=1).reset_index(drop=True)\n",
    "#df2=df.sample(frac=1, random_state=1)\n",
    "#df1.head()\n",
    "#df1.shape"
   ]
  },
  {
   "cell_type": "code",
   "execution_count": 5,
   "metadata": {},
   "outputs": [],
   "source": [
    "X1=df.drop('sales',axis=1)\n",
    "Y1=df['sales']"
   ]
  },
  {
   "cell_type": "code",
   "execution_count": 6,
   "metadata": {},
   "outputs": [],
   "source": [
    "#75% train data and 25%\n",
    "train=df1.loc[:149,:]\n",
    "train.head()\n",
    "train.shape\n",
    "test=df1.iloc[150:,:]"
   ]
  },
  {
   "cell_type": "code",
   "execution_count": 7,
   "metadata": {},
   "outputs": [],
   "source": [
    "#train data\n",
    "X_train=train.drop('sales',axis=1)\n",
    "X_train.head()\n",
    "Y_train=train['sales']\n",
    "#Y_train.head()"
   ]
  },
  {
   "cell_type": "code",
   "execution_count": 8,
   "metadata": {},
   "outputs": [],
   "source": [
    "#test data\n",
    "X_test=test.drop('sales',axis=1)\n",
    "Y_test=test['sales']\n",
    "#X_test.head()\n",
    "#Y_test.head()"
   ]
  },
  {
   "cell_type": "code",
   "execution_count": 9,
   "metadata": {},
   "outputs": [],
   "source": [
    "#Converting training and testing dataset into numpy matrix\n",
    "x_train=X_train.to_numpy()\n",
    "x_test=X_test.to_numpy()\n",
    "y_train=Y_train.to_numpy()\n",
    "y_test=Y_test.to_numpy()\n",
    "#y_test\n",
    "y_test = np.expand_dims(y_test, axis = 1)\n",
    "#x_train[0:2]\n",
    "#y_test\n",
    "#y_test[0:2]"
   ]
  },
  {
   "cell_type": "code",
   "execution_count": 10,
   "metadata": {},
   "outputs": [],
   "source": [
    "#Calculating the terms required in formula\n",
    "x_train_mean=np.mean(x_train,axis=0,keepdims=True)\n",
    "y_train_mean=np.mean(y_train)\n",
    "x_prime=x_train-x_train_mean\n",
    "y_prime=y_train-y_train_mean\n",
    "y_prime = np.expand_dims(y_prime, axis = 1)"
   ]
  },
  {
   "cell_type": "code",
   "execution_count": 36,
   "metadata": {},
   "outputs": [],
   "source": [
    "#Calculating the slopes and intercept (Vectorized Code) \n",
    "w = np.dot(np.dot((np.linalg.inv(np.dot(np.transpose(x_prime),x_prime))),np.transpose(x_prime)),y_prime)\n",
    "#w=  np.dot(np.dot((np.linalg.inv(np.dot(np.transpose(x_prime),x_prime))),np.transpose(x_prime)),y_prime)\n",
    "b = y_train_mean-(np.dot(x_train_mean,w))\n",
    "#w\n",
    "#np.transpose(w)\n",
    "#b"
   ]
  },
  {
   "cell_type": "code",
   "execution_count": 37,
   "metadata": {},
   "outputs": [
    {
     "ename": "KeyboardInterrupt",
     "evalue": "",
     "output_type": "error",
     "traceback": [
      "\u001b[1;31m---------------------------------------------------------------------------\u001b[0m",
      "\u001b[1;31mKeyboardInterrupt\u001b[0m                         Traceback (most recent call last)",
      "\u001b[1;32m<ipython-input-37-d927909f0938>\u001b[0m in \u001b[0;36m<module>\u001b[1;34m\u001b[0m\n\u001b[0;32m      1\u001b[0m \u001b[1;31m#Inbuild Linear Regression Model on training data\u001b[0m\u001b[1;33m\u001b[0m\u001b[1;33m\u001b[0m\u001b[1;33m\u001b[0m\u001b[0m\n\u001b[1;32m----> 2\u001b[1;33m \u001b[1;32mfrom\u001b[0m \u001b[0msklearn\u001b[0m\u001b[1;33m.\u001b[0m\u001b[0mlinear_model\u001b[0m \u001b[1;32mimport\u001b[0m \u001b[0mLinearRegression\u001b[0m\u001b[1;33m\u001b[0m\u001b[1;33m\u001b[0m\u001b[0m\n\u001b[0m\u001b[0;32m      3\u001b[0m \u001b[0mlr\u001b[0m\u001b[1;33m=\u001b[0m\u001b[0mLinearRegression\u001b[0m\u001b[1;33m(\u001b[0m\u001b[1;33m)\u001b[0m\u001b[1;33m\u001b[0m\u001b[1;33m\u001b[0m\u001b[0m\n\u001b[0;32m      4\u001b[0m \u001b[0mlr\u001b[0m\u001b[1;33m.\u001b[0m\u001b[0mfit\u001b[0m\u001b[1;33m(\u001b[0m\u001b[0mX_train\u001b[0m\u001b[1;33m,\u001b[0m\u001b[0mY_train\u001b[0m\u001b[1;33m)\u001b[0m\u001b[1;33m\u001b[0m\u001b[1;33m\u001b[0m\u001b[0m\n",
      "\u001b[1;32mC:\\ProgramData\\Anaconda3\\lib\\site-packages\\sklearn\\linear_model\\__init__.py\u001b[0m in \u001b[0;36m<module>\u001b[1;34m\u001b[0m\n\u001b[0;32m     10\u001b[0m \u001b[1;31m# complete documentation.\u001b[0m\u001b[1;33m\u001b[0m\u001b[1;33m\u001b[0m\u001b[1;33m\u001b[0m\u001b[0m\n\u001b[0;32m     11\u001b[0m \u001b[1;33m\u001b[0m\u001b[0m\n\u001b[1;32m---> 12\u001b[1;33m \u001b[1;32mfrom\u001b[0m \u001b[1;33m.\u001b[0m\u001b[0mbase\u001b[0m \u001b[1;32mimport\u001b[0m \u001b[0mLinearRegression\u001b[0m\u001b[1;33m\u001b[0m\u001b[1;33m\u001b[0m\u001b[0m\n\u001b[0m\u001b[0;32m     13\u001b[0m \u001b[1;33m\u001b[0m\u001b[0m\n\u001b[0;32m     14\u001b[0m \u001b[1;32mfrom\u001b[0m \u001b[1;33m.\u001b[0m\u001b[0mbayes\u001b[0m \u001b[1;32mimport\u001b[0m \u001b[0mBayesianRidge\u001b[0m\u001b[1;33m,\u001b[0m \u001b[0mARDRegression\u001b[0m\u001b[1;33m\u001b[0m\u001b[1;33m\u001b[0m\u001b[0m\n",
      "\u001b[1;32mC:\\ProgramData\\Anaconda3\\lib\\site-packages\\sklearn\\linear_model\\base.py\u001b[0m in \u001b[0;36m<module>\u001b[1;34m\u001b[0m\n\u001b[0;32m     30\u001b[0m \u001b[1;32mfrom\u001b[0m \u001b[1;33m.\u001b[0m\u001b[1;33m.\u001b[0m\u001b[0mutils\u001b[0m\u001b[1;33m.\u001b[0m\u001b[0mvalidation\u001b[0m \u001b[1;32mimport\u001b[0m \u001b[0mFLOAT_DTYPES\u001b[0m\u001b[1;33m\u001b[0m\u001b[1;33m\u001b[0m\u001b[0m\n\u001b[0;32m     31\u001b[0m \u001b[1;32mfrom\u001b[0m \u001b[1;33m.\u001b[0m\u001b[1;33m.\u001b[0m\u001b[0mutils\u001b[0m \u001b[1;32mimport\u001b[0m \u001b[0mcheck_random_state\u001b[0m\u001b[1;33m\u001b[0m\u001b[1;33m\u001b[0m\u001b[0m\n\u001b[1;32m---> 32\u001b[1;33m \u001b[1;32mfrom\u001b[0m \u001b[1;33m.\u001b[0m\u001b[1;33m.\u001b[0m\u001b[0mutils\u001b[0m\u001b[1;33m.\u001b[0m\u001b[0mextmath\u001b[0m \u001b[1;32mimport\u001b[0m \u001b[0msafe_sparse_dot\u001b[0m\u001b[1;33m\u001b[0m\u001b[1;33m\u001b[0m\u001b[0m\n\u001b[0m\u001b[0;32m     33\u001b[0m \u001b[1;32mfrom\u001b[0m \u001b[1;33m.\u001b[0m\u001b[1;33m.\u001b[0m\u001b[0mutils\u001b[0m\u001b[1;33m.\u001b[0m\u001b[0msparsefuncs\u001b[0m \u001b[1;32mimport\u001b[0m \u001b[0mmean_variance_axis\u001b[0m\u001b[1;33m,\u001b[0m \u001b[0minplace_column_scale\u001b[0m\u001b[1;33m\u001b[0m\u001b[1;33m\u001b[0m\u001b[0m\n\u001b[0;32m     34\u001b[0m \u001b[1;32mfrom\u001b[0m \u001b[1;33m.\u001b[0m\u001b[1;33m.\u001b[0m\u001b[0mutils\u001b[0m\u001b[1;33m.\u001b[0m\u001b[0mfixes\u001b[0m \u001b[1;32mimport\u001b[0m \u001b[0msparse_lsqr\u001b[0m\u001b[1;33m\u001b[0m\u001b[1;33m\u001b[0m\u001b[0m\n",
      "\u001b[1;32mC:\\ProgramData\\Anaconda3\\lib\\site-packages\\sklearn\\utils\\extmath.py\u001b[0m in \u001b[0;36m<module>\u001b[1;34m\u001b[0m\n\u001b[0;32m     21\u001b[0m \u001b[1;32mfrom\u001b[0m \u001b[1;33m.\u001b[0m\u001b[0mfixes\u001b[0m \u001b[1;32mimport\u001b[0m \u001b[0mnp_version\u001b[0m\u001b[1;33m\u001b[0m\u001b[1;33m\u001b[0m\u001b[0m\n\u001b[0;32m     22\u001b[0m \u001b[1;32mfrom\u001b[0m \u001b[1;33m.\u001b[0m\u001b[0mfixes\u001b[0m \u001b[1;32mimport\u001b[0m \u001b[0mlogsumexp\u001b[0m \u001b[1;32mas\u001b[0m \u001b[0mscipy_logsumexp\u001b[0m\u001b[1;33m\u001b[0m\u001b[1;33m\u001b[0m\u001b[0m\n\u001b[1;32m---> 23\u001b[1;33m \u001b[1;32mfrom\u001b[0m \u001b[1;33m.\u001b[0m\u001b[0m_logistic_sigmoid\u001b[0m \u001b[1;32mimport\u001b[0m \u001b[0m_log_logistic_sigmoid\u001b[0m\u001b[1;33m\u001b[0m\u001b[1;33m\u001b[0m\u001b[0m\n\u001b[0m\u001b[0;32m     24\u001b[0m \u001b[1;32mfrom\u001b[0m \u001b[1;33m.\u001b[0m\u001b[1;33m.\u001b[0m\u001b[0mexternals\u001b[0m\u001b[1;33m.\u001b[0m\u001b[0msix\u001b[0m\u001b[1;33m.\u001b[0m\u001b[0mmoves\u001b[0m \u001b[1;32mimport\u001b[0m \u001b[0mxrange\u001b[0m\u001b[1;33m\u001b[0m\u001b[1;33m\u001b[0m\u001b[0m\n\u001b[0;32m     25\u001b[0m \u001b[1;32mfrom\u001b[0m \u001b[1;33m.\u001b[0m\u001b[0msparsefuncs_fast\u001b[0m \u001b[1;32mimport\u001b[0m \u001b[0mcsr_row_norms\u001b[0m\u001b[1;33m\u001b[0m\u001b[1;33m\u001b[0m\u001b[0m\n",
      "\u001b[1;32mC:\\ProgramData\\Anaconda3\\lib\\importlib\\_bootstrap.py\u001b[0m in \u001b[0;36mparent\u001b[1;34m(self)\u001b[0m\n",
      "\u001b[1;31mKeyboardInterrupt\u001b[0m: "
     ]
    }
   ],
   "source": [
    "#Inbuild Linear Regression Model on training data\n",
    "from sklearn.linear_model import LinearRegression\n",
    "lr=LinearRegression()\n",
    "lr.fit(X_train,Y_train)"
   ]
  },
  {
   "cell_type": "code",
   "execution_count": 96,
   "metadata": {},
   "outputs": [
    {
     "data": {
      "text/plain": [
       "LinearRegression(copy_X=True, fit_intercept=True, n_jobs=None,\n",
       "         normalize=False)"
      ]
     },
     "execution_count": 96,
     "metadata": {},
     "output_type": "execute_result"
    }
   ],
   "source": [
    "from sklearn.linear_model import LinearRegression\n",
    "lr=LinearRegression()\n",
    "lr.fit(x_t,y_t)"
   ]
  },
  {
   "cell_type": "code",
   "execution_count": 97,
   "metadata": {},
   "outputs": [
    {
     "data": {
      "text/plain": [
       "(array([2.81576254, 0.50767656]), 2.798362333674513)"
      ]
     },
     "execution_count": 97,
     "metadata": {},
     "output_type": "execute_result"
    }
   ],
   "source": [
    "lr.coef_ , lr.intercept_"
   ]
  },
  {
   "cell_type": "code",
   "execution_count": 27,
   "metadata": {},
   "outputs": [
    {
     "data": {
      "text/plain": [
       "(array([[4.75847212e-02, 1.81834719e-01, 4.85565233e-05]]),\n",
       " array([4.75847212e-02, 1.81834719e-01, 4.85565233e-05]))"
      ]
     },
     "execution_count": 27,
     "metadata": {},
     "output_type": "execute_result"
    }
   ],
   "source": [
    "#Comparing the cofficients and intercept from normal equation and inbuild model\n",
    "np.transpose(w) , lr.coef_"
   ]
  },
  {
   "cell_type": "code",
   "execution_count": 28,
   "metadata": {},
   "outputs": [
    {
     "data": {
      "text/plain": [
       "(array([[2.75164131]]), 2.7516413103374617)"
      ]
     },
     "execution_count": 28,
     "metadata": {},
     "output_type": "execute_result"
    }
   ],
   "source": [
    "b , lr.intercept_"
   ]
  },
  {
   "cell_type": "code",
   "execution_count": 29,
   "metadata": {},
   "outputs": [],
   "source": [
    "#both models are predicting same cofficients"
   ]
  },
  {
   "cell_type": "code",
   "execution_count": 14,
   "metadata": {},
   "outputs": [
    {
     "data": {
      "text/plain": [
       "array([[20.64914556],\n",
       "       [14.91313462],\n",
       "       [ 4.36784076]])"
      ]
     },
     "execution_count": 14,
     "metadata": {},
     "output_type": "execute_result"
    }
   ],
   "source": [
    "#Predicting sales from cofficients got from Normal Equation model\n",
    "y_pred=np.dot(x_test,w)+b\n",
    "y_pred[0:3]"
   ]
  },
  {
   "cell_type": "code",
   "execution_count": 35,
   "metadata": {},
   "outputs": [
    {
     "ename": "ValueError",
     "evalue": "shapes (4,1) and (50,4) not aligned: 1 (dim 1) != 50 (dim 0)",
     "output_type": "error",
     "traceback": [
      "\u001b[1;31m---------------------------------------------------------------------------\u001b[0m",
      "\u001b[1;31mValueError\u001b[0m                                Traceback (most recent call last)",
      "\u001b[1;32m<ipython-input-35-c385ff6a12f0>\u001b[0m in \u001b[0;36m<module>\u001b[1;34m\u001b[0m\n\u001b[1;32m----> 1\u001b[1;33m \u001b[0my1\u001b[0m\u001b[1;33m=\u001b[0m\u001b[0mnp\u001b[0m\u001b[1;33m.\u001b[0m\u001b[0mdot\u001b[0m\u001b[1;33m(\u001b[0m\u001b[0mw\u001b[0m\u001b[1;33m,\u001b[0m\u001b[0mx_test\u001b[0m\u001b[1;33m)\u001b[0m\u001b[1;33m+\u001b[0m\u001b[0mb\u001b[0m\u001b[1;33m\u001b[0m\u001b[1;33m\u001b[0m\u001b[0m\n\u001b[0m\u001b[0;32m      2\u001b[0m \u001b[0my1\u001b[0m\u001b[1;33m[\u001b[0m\u001b[1;36m0\u001b[0m\u001b[1;33m:\u001b[0m\u001b[1;36m3\u001b[0m\u001b[1;33m]\u001b[0m\u001b[1;33m\u001b[0m\u001b[1;33m\u001b[0m\u001b[0m\n",
      "\u001b[1;31mValueError\u001b[0m: shapes (4,1) and (50,4) not aligned: 1 (dim 1) != 50 (dim 0)"
     ]
    }
   ],
   "source": [
    "y1=np.dot(w,x_test)+b\n",
    "y1[0:3]"
   ]
  },
  {
   "cell_type": "code",
   "execution_count": 31,
   "metadata": {},
   "outputs": [
    {
     "data": {
      "text/plain": [
       "2.7143404698150384"
      ]
     },
     "execution_count": 31,
     "metadata": {},
     "output_type": "execute_result"
    }
   ],
   "source": [
    "#Calculating mean squared error\n",
    "mean_sq_error = np.sum(np.square(y_pred-y_test))/50 #no of test data=50\n",
    "mean_sq_error"
   ]
  },
  {
   "cell_type": "code",
   "execution_count": null,
   "metadata": {},
   "outputs": [],
   "source": [
    "#Ridge Regression\n",
    "m = x_train.shape[1]\n",
    "#m\n",
    "I = np.identity(m)\n",
    "I\n",
    "ld=[0.5,1,5,10,50,100] #given\n",
    "#Initializing Empty matrix for coffecients\n",
    "W=np.empty((3,6))\n",
    "#W\n",
    "B=np.empty((1,6))\n",
    "#B\n",
    "for i,a in enumerate(ld):\n",
    "    w1 = np.dot(np.dot((np.linalg.inv(np.dot(np.transpose(x_tild),x_tild)+a*I)),np.transpose(x_tild)),y_tild)\n",
    "    w1 = np.dot(np.dot(np.linalg.inv((np.dot(np.transpose(x_prime),x_prime)+a*I)),np.transpose(x_prime))),y_prime)\n",
    "    b1 =  y_train_mean-(np.dot(x_train_mean,w1))\n",
    "    W[:,i]=w1[:,0]\n",
    "    B[:,i]=b1\n",
    "import matplotlib.pyplot as plt\n",
    "%matplotlib inline\n",
    "fig, axs = plt.subplots(3,figsize=(10,10))\n",
    "axs[0].plot(ld,W[0,:],'r')\n",
    "axs[0].set_title('Coff. of Feature  TV')\n",
    "axs[0].set_xlabel('Lambda')\n",
    "axs[0].set_ylabel('W1')\n",
    "\n",
    "axs[1].plot(ld,W[1,:],'b')\n",
    "axs[1].set_title('Coff. of Feature  Newspaper')\n",
    "axs[1].set_xlabel('Lambda')\n",
    "axs[1].set_ylabel('W2')\n",
    "\n",
    "axs[2].plot(ld,W[2,:],'g')   \n",
    "axs[2].set_title('Coff. of Feature  Radio')\n",
    "axs[2].set_xlabel('Lambda')\n",
    "axs[2].set_ylabel('W3')\n",
    "plt.tight_layout()\n",
    "#Predicting sales from cofficients got from Normal Equation model of Ridge Regression\n",
    "Y_pred=np.empty((50,6))\n",
    "for i in range(0,6):\n",
    "    p=W[:,i]\n",
    "    p=np.expand_dims(p, axis = 1)\n",
    "    y_pred1=np.dot(x_test,p)+B[0,i]\n",
    "    Y_pred[:,i]=y_pred1[:,0]\n",
    "    \n",
    "#Calculating Mean squared Error for different lambda\n",
    "D=Y_pred-y_test\n",
    "D_sq=np.square(D)\n",
    "mse=np.sum(D_sq,axis=0)/50\n",
    "mse\n",
    "#Plotting Mean squared Error for all lambda\n",
    "plt.plot(ld,mse,\"g\")\n",
    "plt.title(\"Mean square error  vs  Lambda\")\n",
    "plt.xlabel(\"Lambda\")\n",
    "plt.ylabel(\"Mean square error\")"
   ]
  },
  {
   "cell_type": "code",
   "execution_count": 34,
   "metadata": {},
   "outputs": [],
   "source": [
    "#Ridge Regression\n",
    "m = x_train.shape[1]\n",
    "#m\n",
    "I = np.identity(m)\n",
    "I\n",
    "Lambda=[0.5,1,5,10,50,100] #given\n",
    "#Initializing Empty matrix for coffecients\n",
    "W=np.empty((3,6))\n",
    "#W\n",
    "B=np.empty((1,6))\n",
    "#B\n",
    "for i,a in enumerate(Lambda):\n",
    "    w1 = np.dot(np.dot((np.linalg.inv(np.dot(np.transpose(x_prime),x_prime)+a*I)),np.transpose(x_prime)),y_prime)\n",
    "    w1 = np.dot(np.dot(np.linalg.inv(np.dot(np.transpose(x_prime),x_prime)+a*I),np.transpose(x_prime)),y_prime)\n",
    "\n",
    "    b1 =  y_train_mean-(np.dot(x_train_mean,w1))\n",
    "    W[:,i]=w1[:,0]\n",
    "    B[:,i]=b1\n",
    "#w1\n",
    "#w\n",
    "#b1\n",
    "#W\n",
    "#B"
   ]
  },
  {
   "cell_type": "code",
   "execution_count": 57,
   "metadata": {},
   "outputs": [
    {
     "data": {
      "image/png": "[encoded data removed]",
      "text/plain": [
       "<Figure size 720x720 with 3 Axes>"
      ]
     },
     "metadata": {
      "needs_background": "light"
     },
     "output_type": "display_data"
    }
   ],
   "source": [
    "#Plotting the coffeciencts of all the 3 features with value of Lambda\n",
    "import matplotlib.pyplot as plt\n",
    "%matplotlib inline\n",
    "fig, axs = plt.subplots(3,figsize=(10,10))\n",
    "axs[0].plot(Lambda,W[0,:],'b')\n",
    "axs[0].set_title('Coff. of Feature : TV')\n",
    "axs[0].set_xlabel('Lambda')\n",
    "axs[0].set_ylabel('W1')\n",
    "\n",
    "axs[1].plot(Lambda,W[1,:],'r')\n",
    "axs[1].set_title('Coff. of Feature : Newspaper')\n",
    "axs[1].set_xlabel('Lambda')\n",
    "axs[1].set_ylabel('W2')\n",
    "\n",
    "axs[2].plot(Lambda,W[2,:],'g')   \n",
    "axs[2].set_title('Coff. of Feature : Radio')\n",
    "axs[2].set_xlabel('Lambda')\n",
    "axs[2].set_ylabel('W3')\n",
    "plt.tight_layout()"
   ]
  },
  {
   "cell_type": "code",
   "execution_count": 36,
   "metadata": {},
   "outputs": [],
   "source": [
    "#Predicting sales from cofficients got from Normal Equation model of Ridge Regression\n",
    "Y_pred=np.empty((50,6))\n",
    "for i in range(0,6):\n",
    "    p=W[:,i]\n",
    "    p=np.expand_dims(p, axis = 1)\n",
    "    y_pred1=np.dot(x_test,p)+B[0,i]\n",
    "    Y_pred[:,i]=y_pred1[:,0]"
   ]
  },
  {
   "cell_type": "code",
   "execution_count": 37,
   "metadata": {},
   "outputs": [
    {
     "data": {
      "text/plain": [
       "array([2.71437052, 2.71440056, 2.71464106, 2.71494197, 2.71736038,\n",
       "       2.72041106])"
      ]
     },
     "execution_count": 37,
     "metadata": {},
     "output_type": "execute_result"
    }
   ],
   "source": [
    "#Calculating Mean squared Error for different lambda\n",
    "diff=Y_pred-y_test\n",
    "sq=np.square(diff)\n",
    "mse=np.sum(sq,axis=0)/50\n",
    "mse"
   ]
  },
  {
   "cell_type": "code",
   "execution_count": 39,
   "metadata": {},
   "outputs": [
    {
     "data": {
      "text/plain": [
       "Text(0, 0.5, 'Mean square error')"
      ]
     },
     "execution_count": 39,
     "metadata": {},
     "output_type": "execute_result"
    },
    {
     "data": {
      "image/png": "[encoded data removed]",
      "text/plain": [
       "<Figure size 432x288 with 1 Axes>"
      ]
     },
     "metadata": {
      "needs_background": "light"
     },
     "output_type": "display_data"
    }
   ],
   "source": [
    "#Plotting Mean squared Error for all lambda\n",
    "plt.plot(Lambda,mse,\"r\")\n",
    "plt.title(\"Mean square error  vs  Lambda\")\n",
    "plt.xlabel(\"Lambda\")\n",
    "plt.ylabel(\"Mean square error\")"
   ]
  },
  {
   "cell_type": "code",
   "execution_count": 55,
   "metadata": {},
   "outputs": [
    {
     "data": {
      "text/plain": [
       "array([0.03390169, 0.        , 0.        ])"
      ]
     },
     "execution_count": 55,
     "metadata": {},
     "output_type": "execute_result"
    }
   ],
   "source": [
    "#Predicting which feature is most important\n",
    "from sklearn.linear_model import Lasso\n",
    "model=Lasso(alpha=100)\n",
    "model.fit(X1,Y1)\n",
    "model.coef_"
   ]
  },
  {
   "cell_type": "code",
   "execution_count": 56,
   "metadata": {},
   "outputs": [
    {
     "data": {
      "text/plain": [
       "Text(0.5, 1.0, 'Coefficients in the Lasso Model')"
      ]
     },
     "execution_count": 56,
     "metadata": {},
     "output_type": "execute_result"
    },
    {
     "data": {
      "image/png": "[encoded data removed]",
      "text/plain": [
       "<Figure size 576x720 with 1 Axes>"
      ]
     },
     "metadata": {
      "needs_background": "light"
     },
     "output_type": "display_data"
    }
   ],
   "source": [
    "coef = pd.Series(model.coef_, index = X1.columns)\n",
    "imp_coef = pd.concat([coef.sort_values().head(10),coef.sort_values().tail(10)])\n",
    "plt.rcParams['figure.figsize'] = (8.0, 10.0)\n",
    "imp_coef.plot(kind = \"barh\")\n",
    "plt.title(\"Coefficients in the Lasso Model\")"
   ]
  },
  {
   "cell_type": "markdown",
   "metadata": {},
   "source": [
    "###### So, Feature 1 i.e TV is the most important feature of the dataset(because all other coffecients became 0 on increasing alpha except TV coffecient(whose coefficient is furthest from 0))"
   ]
  }
 ],
 "metadata": {
  "kernelspec": {
   "display_name": "Python 3",
   "language": "python",
   "name": "python3"
  },
  "language_info": {
   "codemirror_mode": {
    "name": "ipython",
    "version": 3
   },
   "file_extension": ".py",
   "mimetype": "text/x-python",
   "name": "python",
   "nbconvert_exporter": "python",
   "pygments_lexer": "ipython3",
   "version": "3.7.3"
  }
 },
 "nbformat": 4,
 "nbformat_minor": 4
}
